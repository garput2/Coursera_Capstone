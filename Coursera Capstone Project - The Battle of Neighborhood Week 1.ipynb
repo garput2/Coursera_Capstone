{
 "cells": [
  {
   "cell_type": "markdown",
   "metadata": {},
   "source": [
    "# The Battle of Neighborhood Week 1"
   ]
  },
  {
   "cell_type": "markdown",
   "metadata": {},
   "source": [
    "## Introduction"
   ]
  },
  {
   "cell_type": "markdown",
   "metadata": {},
   "source": [
    "Burger Queen, a Canadian newly established burger joint, is aiming to discover where to build its new restaurant. The restaurant will be opened in Toronto, so as a data scientist we ought to analyze which area it may be most profitable to build the joint. The requirements set by the CEO is only places where there are not many competitors, as we have to build our brand first before trying to compete with popular and well-established joints. But, the place should be populous as well so that the burger brings profit. The CEO wants to build 3 restaurants per borough and would like to find the exact three location per borough that is needed to be bought to ensure the requirements are met."
   ]
  },
  {
   "cell_type": "markdown",
   "metadata": {},
   "source": [
    "## Data"
   ]
  },
  {
   "cell_type": "markdown",
   "metadata": {},
   "source": [
    "The neighborhood candidate data needed for this analytics are the Toronto postal code, borough, and neighborhood data which will be extracted from https://en.wikipedia.org/wiki/List_of_postal_codes_of_Canada:_M and their longitude and latitude which will be extracted from http://cocl.us/Geospatial_data. Then, the list of nearby burger joints will be extracted with Foursquare API. After we have the rival joints data, we use the data to generate K-Means Clustering, where the cluster center or centroids determine the area where we would like to open the new three joints."
   ]
  },
  {
   "cell_type": "code",
   "execution_count": null,
   "metadata": {},
   "outputs": [],
   "source": []
  }
 ],
 "metadata": {
  "kernelspec": {
   "display_name": "Python 3",
   "language": "python",
   "name": "python3"
  },
  "language_info": {
   "codemirror_mode": {
    "name": "ipython",
    "version": 3
   },
   "file_extension": ".py",
   "mimetype": "text/x-python",
   "name": "python",
   "nbconvert_exporter": "python",
   "pygments_lexer": "ipython3",
   "version": "3.7.4"
  }
 },
 "nbformat": 4,
 "nbformat_minor": 2
}
